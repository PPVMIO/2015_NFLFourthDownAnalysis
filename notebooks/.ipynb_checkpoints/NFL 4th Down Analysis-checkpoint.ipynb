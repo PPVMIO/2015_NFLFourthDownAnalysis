{
 "cells": [
  {
   "cell_type": "markdown",
   "metadata": {},
   "source": [
    "# Breakdown of the 4th Down"
   ]
  },
  {
   "cell_type": "code",
   "execution_count": 126,
   "metadata": {
    "collapsed": false
   },
   "outputs": [],
   "source": [
    "%matplotlib inline\n",
    "\n",
    "import pandas as pd\n",
    "import numpy as np\n",
    "import warnings\n",
    "import pandas as pd\n",
    "import seaborn as sns\n",
    "import math\n",
    "import numpy as np\n",
    "import matplotlib.pyplot as plt\n",
    "from IPython.display import display, HTML\n",
    "from astropy.table import Table\n",
    "from scipy import stats\n",
    "from statsmodels.formula.api import ols\n",
    "warnings.simplefilter(action = \"ignore\")\n",
    "\n",
    "all_plays = pd.read_csv('../data/nflplaybyplay2015.csv')\n",
    "play_codes = {'Punt': 'Punt', 'Field Goal': 'Field Goal', 'Pass': 'Play Attempt (Pass/Run/Sack)', 'No Play': 'Other', 'Run': 'Play Attempt (Pass/Run/Sack)', 'Sack': 'Play Attempt (Pass/Run/Sack)', 'QB Kneel': 'Other', 'Timeout': 'Other'}\n",
    "all_plays['Play'] = all_plays['PlayType'].map(play_codes)\n",
    "\n",
    "short_flag = all_plays['ydstogo'] < 5\n",
    "med_flag = (all_plays['ydstogo'] >= 5) & (all_plays['ydstogo'] <= 10)\n",
    "long_flag = all_plays['ydstogo'] > 10\n",
    "\n",
    "all_plays.loc[short_flag, 'dist_cat'] = 'Short'\n",
    "all_plays.loc[med_flag, 'dist_cat'] = 'Medium'\n",
    "all_plays.loc[long_flag, 'dist_cat'] = 'Long'\n"
   ]
  },
  {
   "cell_type": "markdown",
   "metadata": {},
   "source": [
    "Create a dataframe of just the 4th Down Plays"
   ]
  },
  {
   "cell_type": "code",
   "execution_count": 127,
   "metadata": {
    "collapsed": false
   },
   "outputs": [],
   "source": [
    "other_plays = all_plays[all_plays['down'] != 4]\n",
    "fourth_plays = all_plays[all_plays['down'] == 4]\n",
    "fourth_plays = fourth_plays.drop(['Unnamed: 0', 'PlayAttempted', 'Season'], 1)\n",
    "converted_flag = fourth_plays['ydstogo'] > fourth_plays['Yards.Gained']\n",
    "fourth_plays['converted'] = 1\n",
    "fourth_plays.loc[converted_flag, 'converted'] = 0\n",
    "\n"
   ]
  },
  {
   "cell_type": "markdown",
   "metadata": {},
   "source": [
    "Create some other dataframes that divide up the fourth down plays by attempts, punts, field goals and other.  Do the same for first quarter, second quarter, third quarter and fourth."
   ]
  },
  {
   "cell_type": "code",
   "execution_count": 128,
   "metadata": {
    "collapsed": true
   },
   "outputs": [],
   "source": [
    "attempts = fourth_plays[fourth_plays['Play'] == 'Play Attempt (Pass/Run/Sack)']\n",
    "punts = fourth_plays[fourth_plays['Play'] == 'Punt']\n",
    "field_goals = fourth_plays[fourth_plays['Play'] == 'Field Goal']\n",
    "other_plays = fourth_plays[fourth_plays['Play'] == 'Other']\n",
    "\n",
    "first_qtr = fourth_plays[fourth_plays['qtr'] == 1]\n",
    "second_qtr = fourth_plays[fourth_plays['qtr'] == 2]\n",
    "third_qtr = fourth_plays[fourth_plays['qtr'] == 3]\n",
    "fourth_qtr = fourth_plays[fourth_plays['qtr'] == 4]"
   ]
  },
  {
   "cell_type": "markdown",
   "metadata": {},
   "source": [
    "## Distribution of Play Type"
   ]
  },
  {
   "cell_type": "code",
   "execution_count": 129,
   "metadata": {
    "collapsed": false,
    "scrolled": false
   },
   "outputs": [
    {
     "name": "stdout",
     "output_type": "stream",
     "text": [
      "      Type       Average Dist to Goal Mode [1]   SD \n",
      "---------------- -------------------- -------- -----\n",
      "4th Down Attempt                38.43     38.0 22.32\n",
      "            Punt                66.41     75.0 14.88\n",
      "              FG                19.93     30.0 10.21\n",
      "           Other                49.05     73.0 24.79\n"
     ]
    }
   ],
   "source": [
    "att = attempts['yrdline100']\n",
    "punt = punts['yrdline100']\n",
    "fg = field_goals['yrdline100']\n",
    "other = other_plays['yrdline100']\n",
    "rows = ['4th Down Attempt', 'Punt', 'FG', 'Other']\n",
    "    \n",
    "distance_avg = [round(np.mean(att), 2), round(np.mean(punt), 2), round(np.mean(fg), 2), round(np.mean(other), 2)]\n",
    "distance_mode = [stats.mode(att).mode, stats.mode(punt).mode, stats.mode(fg).mode, stats.mode(other).mode]\n",
    "distance_sd = [round(np.std(att), 2), round(np.std(punt), 2), round(np.std(fg), 2), round(np.std(other), 2)]    \n",
    "tbl = Table([rows, distance_avg, distance_mode, distance_sd], names=('Type', 'Average Dist to Goal', 'Mode', 'SD'))\n",
    "print(tbl)"
   ]
  },
  {
   "cell_type": "markdown",
   "metadata": {},
   "source": [
    "We see that 4th down attempts occur around the 38 yard line, a mark that is inbetwen the average punt and fg line.  This is not particularly a surpirse.  However, we note that 4th down attempts have a much larger spread than punts and FG.  This is most likely due to the variety of when 4th downs need to be completed (ie at the end of games a team that is down may be forced to attempt a 4th and long). "
   ]
  },
  {
   "cell_type": "markdown",
   "metadata": {},
   "source": [
    "### Distribution of Play Type by Distance to Goal"
   ]
  },
  {
   "cell_type": "code",
   "execution_count": 130,
   "metadata": {
    "collapsed": false,
    "scrolled": true
   },
   "outputs": [
    {
     "data": {
      "image/png": "[encoded data removed]",
      "text/plain": [
       "<matplotlib.figure.Figure at 0x124d02390>"
      ]
     },
     "metadata": {},
     "output_type": "display_data"
    },
    {
     "data": {
      "image/png": "[encoded data removed]",
      "text/plain": [
       "<matplotlib.figure.Figure at 0x1262d2eb8>"
      ]
     },
     "metadata": {},
     "output_type": "display_data"
    }
   ],
   "source": [
    "g1 = sns.FacetGrid(fourth_plays, col='Play')\n",
    "g1.map(plt.hist, 'yrdline100')\n",
    "g2 = sns.FacetGrid(fourth_plays, col='Play')\n",
    "g2.map(sns.boxplot, 'yrdline100')\n",
    "sns.plt.show()"
   ]
  },
  {
   "cell_type": "markdown",
   "metadata": {},
   "source": [
    "### Distribution of Play Type by Time Left"
   ]
  },
  {
   "cell_type": "code",
   "execution_count": 131,
   "metadata": {
    "collapsed": false
   },
   "outputs": [
    {
     "data": {
      "image/png": "[encoded data removed]",
      "text/plain": [
       "<matplotlib.figure.Figure at 0x124cb5048>"
      ]
     },
     "metadata": {},
     "output_type": "display_data"
    },
    {
     "data": {
      "image/png": "[encoded data removed]",
      "text/plain": [
       "<matplotlib.figure.Figure at 0x117a7ae48>"
      ]
     },
     "metadata": {},
     "output_type": "display_data"
    }
   ],
   "source": [
    "g1 = sns.FacetGrid(fourth_plays, col='Play')\n",
    "g1.map(plt.hist, 'TimeSecs')\n",
    "\n",
    "g1 = sns.FacetGrid(fourth_plays, col='Play')\n",
    "g1.map(sns.boxplot, 'TimeSecs')\n",
    "sns.plt.show()"
   ]
  },
  {
   "cell_type": "markdown",
   "metadata": {},
   "source": [
    "### Distribution of Play Type by Distance to First Down"
   ]
  },
  {
   "cell_type": "code",
   "execution_count": 132,
   "metadata": {
    "collapsed": false,
    "scrolled": true
   },
   "outputs": [
    {
     "data": {
      "image/png": "[encoded data removed]",
      "text/plain": [
       "<matplotlib.figure.Figure at 0x1207d29e8>"
      ]
     },
     "metadata": {},
     "output_type": "display_data"
    },
    {
     "data": {
      "image/png": "[encoded data removed]",
      "text/plain": [
       "<matplotlib.figure.Figure at 0x126612c50>"
      ]
     },
     "metadata": {},
     "output_type": "display_data"
    }
   ],
   "source": [
    "g1 = sns.FacetGrid(fourth_plays, col='Play')\n",
    "g1.map(plt.hist, 'ydstogo')\n",
    "\n",
    "g1 = sns.FacetGrid(fourth_plays, col='Play')\n",
    "g1.map(sns.boxplot, 'ydstogo')\n",
    "sns.plt.show()"
   ]
  },
  {
   "cell_type": "markdown",
   "metadata": {},
   "source": [
    "### Wins vs. 4th Down Attempts Percentage"
   ]
  },
  {
   "cell_type": "code",
   "execution_count": 133,
   "metadata": {
    "collapsed": false
   },
   "outputs": [],
   "source": [
    "standings15 = pd.read_csv('../data/standings2015.csv')\n",
    "fourth_plays_vc = dict(fourth_plays['posteam'].value_counts())\n",
    "attempts_vc = dict(attempts['posteam'].value_counts())\n",
    "standings15['4thPossesions'] = standings15['Team'].map(fourth_plays_vc)\n",
    "standings15['4thAttempts'] = standings15['Team'].map(attempts_vc)\n",
    "standings15['PercentAttempts'] = standings15['4thAttempts']/standings15['4thPossesions']\n"
   ]
  },
  {
   "cell_type": "code",
   "execution_count": 134,
   "metadata": {
    "collapsed": false
   },
   "outputs": [
    {
     "data": {
      "text/plain": [
       "<matplotlib.text.Text at 0x1269fb518>"
      ]
     },
     "execution_count": 134,
     "metadata": {},
     "output_type": "execute_result"
    },
    {
     "data": {
      "image/png": "[encoded data removed]",
      "text/plain": [
       "<matplotlib.figure.Figure at 0x1251cc710>"
      ]
     },
     "metadata": {},
     "output_type": "display_data"
    }
   ],
   "source": [
    "sns.regplot(standings15['PercentAttempts'], standings15['Win'])\n",
    "plt.title('Percent of 4th Down Attempts vs. Wins')"
   ]
  },
  {
   "cell_type": "code",
   "execution_count": 135,
   "metadata": {
    "collapsed": false
   },
   "outputs": [
    {
     "data": {
      "text/html": [
       "<div>\n",
       "<table border=\"1\" class=\"dataframe\">\n",
       "  <thead>\n",
       "    <tr style=\"text-align: right;\">\n",
       "      <th></th>\n",
       "      <th>Team</th>\n",
       "      <th>Win</th>\n",
       "      <th>Loss</th>\n",
       "      <th>Unnamed: 3</th>\n",
       "      <th>4thPossesions</th>\n",
       "      <th>4thAttempts</th>\n",
       "      <th>PercentAttempts</th>\n",
       "    </tr>\n",
       "  </thead>\n",
       "  <tbody>\n",
       "    <tr>\n",
       "      <th>0</th>\n",
       "      <td>NE</td>\n",
       "      <td>12</td>\n",
       "      <td>4</td>\n",
       "      <td>NaN</td>\n",
       "      <td>128</td>\n",
       "      <td>16</td>\n",
       "      <td>0.125000</td>\n",
       "    </tr>\n",
       "    <tr>\n",
       "      <th>1</th>\n",
       "      <td>NYJ</td>\n",
       "      <td>10</td>\n",
       "      <td>6</td>\n",
       "      <td>NaN</td>\n",
       "      <td>132</td>\n",
       "      <td>15</td>\n",
       "      <td>0.113636</td>\n",
       "    </tr>\n",
       "    <tr>\n",
       "      <th>2</th>\n",
       "      <td>BUF</td>\n",
       "      <td>8</td>\n",
       "      <td>8</td>\n",
       "      <td>NaN</td>\n",
       "      <td>132</td>\n",
       "      <td>16</td>\n",
       "      <td>0.121212</td>\n",
       "    </tr>\n",
       "    <tr>\n",
       "      <th>3</th>\n",
       "      <td>MIA</td>\n",
       "      <td>6</td>\n",
       "      <td>10</td>\n",
       "      <td>NaN</td>\n",
       "      <td>138</td>\n",
       "      <td>21</td>\n",
       "      <td>0.152174</td>\n",
       "    </tr>\n",
       "    <tr>\n",
       "      <th>4</th>\n",
       "      <td>DEN</td>\n",
       "      <td>12</td>\n",
       "      <td>4</td>\n",
       "      <td>NaN</td>\n",
       "      <td>134</td>\n",
       "      <td>14</td>\n",
       "      <td>0.104478</td>\n",
       "    </tr>\n",
       "    <tr>\n",
       "      <th>5</th>\n",
       "      <td>KC</td>\n",
       "      <td>11</td>\n",
       "      <td>5</td>\n",
       "      <td>NaN</td>\n",
       "      <td>119</td>\n",
       "      <td>9</td>\n",
       "      <td>0.075630</td>\n",
       "    </tr>\n",
       "    <tr>\n",
       "      <th>6</th>\n",
       "      <td>OAK</td>\n",
       "      <td>7</td>\n",
       "      <td>9</td>\n",
       "      <td>NaN</td>\n",
       "      <td>132</td>\n",
       "      <td>15</td>\n",
       "      <td>0.113636</td>\n",
       "    </tr>\n",
       "    <tr>\n",
       "      <th>7</th>\n",
       "      <td>SD</td>\n",
       "      <td>4</td>\n",
       "      <td>12</td>\n",
       "      <td>NaN</td>\n",
       "      <td>125</td>\n",
       "      <td>16</td>\n",
       "      <td>0.128000</td>\n",
       "    </tr>\n",
       "    <tr>\n",
       "      <th>8</th>\n",
       "      <td>CIN</td>\n",
       "      <td>12</td>\n",
       "      <td>4</td>\n",
       "      <td>NaN</td>\n",
       "      <td>116</td>\n",
       "      <td>13</td>\n",
       "      <td>0.112069</td>\n",
       "    </tr>\n",
       "    <tr>\n",
       "      <th>9</th>\n",
       "      <td>PIT</td>\n",
       "      <td>10</td>\n",
       "      <td>6</td>\n",
       "      <td>NaN</td>\n",
       "      <td>115</td>\n",
       "      <td>12</td>\n",
       "      <td>0.104348</td>\n",
       "    </tr>\n",
       "    <tr>\n",
       "      <th>10</th>\n",
       "      <td>BAL</td>\n",
       "      <td>5</td>\n",
       "      <td>11</td>\n",
       "      <td>NaN</td>\n",
       "      <td>138</td>\n",
       "      <td>24</td>\n",
       "      <td>0.173913</td>\n",
       "    </tr>\n",
       "    <tr>\n",
       "      <th>11</th>\n",
       "      <td>CLE</td>\n",
       "      <td>3</td>\n",
       "      <td>13</td>\n",
       "      <td>NaN</td>\n",
       "      <td>126</td>\n",
       "      <td>24</td>\n",
       "      <td>0.190476</td>\n",
       "    </tr>\n",
       "    <tr>\n",
       "      <th>12</th>\n",
       "      <td>HOU</td>\n",
       "      <td>9</td>\n",
       "      <td>7</td>\n",
       "      <td>NaN</td>\n",
       "      <td>145</td>\n",
       "      <td>19</td>\n",
       "      <td>0.131034</td>\n",
       "    </tr>\n",
       "    <tr>\n",
       "      <th>13</th>\n",
       "      <td>IND</td>\n",
       "      <td>8</td>\n",
       "      <td>8</td>\n",
       "      <td>NaN</td>\n",
       "      <td>131</td>\n",
       "      <td>13</td>\n",
       "      <td>0.099237</td>\n",
       "    </tr>\n",
       "    <tr>\n",
       "      <th>14</th>\n",
       "      <td>JAC</td>\n",
       "      <td>5</td>\n",
       "      <td>11</td>\n",
       "      <td>NaN</td>\n",
       "      <td>128</td>\n",
       "      <td>15</td>\n",
       "      <td>0.117188</td>\n",
       "    </tr>\n",
       "    <tr>\n",
       "      <th>15</th>\n",
       "      <td>TEN</td>\n",
       "      <td>3</td>\n",
       "      <td>13</td>\n",
       "      <td>NaN</td>\n",
       "      <td>124</td>\n",
       "      <td>15</td>\n",
       "      <td>0.120968</td>\n",
       "    </tr>\n",
       "    <tr>\n",
       "      <th>16</th>\n",
       "      <td>WAS</td>\n",
       "      <td>9</td>\n",
       "      <td>7</td>\n",
       "      <td>NaN</td>\n",
       "      <td>119</td>\n",
       "      <td>14</td>\n",
       "      <td>0.117647</td>\n",
       "    </tr>\n",
       "    <tr>\n",
       "      <th>17</th>\n",
       "      <td>PHI</td>\n",
       "      <td>7</td>\n",
       "      <td>9</td>\n",
       "      <td>NaN</td>\n",
       "      <td>132</td>\n",
       "      <td>19</td>\n",
       "      <td>0.143939</td>\n",
       "    </tr>\n",
       "    <tr>\n",
       "      <th>18</th>\n",
       "      <td>NYG</td>\n",
       "      <td>6</td>\n",
       "      <td>10</td>\n",
       "      <td>NaN</td>\n",
       "      <td>129</td>\n",
       "      <td>16</td>\n",
       "      <td>0.124031</td>\n",
       "    </tr>\n",
       "    <tr>\n",
       "      <th>19</th>\n",
       "      <td>DAL</td>\n",
       "      <td>4</td>\n",
       "      <td>12</td>\n",
       "      <td>NaN</td>\n",
       "      <td>119</td>\n",
       "      <td>16</td>\n",
       "      <td>0.134454</td>\n",
       "    </tr>\n",
       "    <tr>\n",
       "      <th>20</th>\n",
       "      <td>ARI</td>\n",
       "      <td>13</td>\n",
       "      <td>3</td>\n",
       "      <td>NaN</td>\n",
       "      <td>101</td>\n",
       "      <td>9</td>\n",
       "      <td>0.089109</td>\n",
       "    </tr>\n",
       "    <tr>\n",
       "      <th>21</th>\n",
       "      <td>SEA</td>\n",
       "      <td>10</td>\n",
       "      <td>6</td>\n",
       "      <td>NaN</td>\n",
       "      <td>109</td>\n",
       "      <td>11</td>\n",
       "      <td>0.100917</td>\n",
       "    </tr>\n",
       "    <tr>\n",
       "      <th>22</th>\n",
       "      <td>STL</td>\n",
       "      <td>7</td>\n",
       "      <td>9</td>\n",
       "      <td>NaN</td>\n",
       "      <td>151</td>\n",
       "      <td>16</td>\n",
       "      <td>0.105960</td>\n",
       "    </tr>\n",
       "    <tr>\n",
       "      <th>23</th>\n",
       "      <td>SF</td>\n",
       "      <td>5</td>\n",
       "      <td>11</td>\n",
       "      <td>NaN</td>\n",
       "      <td>139</td>\n",
       "      <td>19</td>\n",
       "      <td>0.136691</td>\n",
       "    </tr>\n",
       "    <tr>\n",
       "      <th>24</th>\n",
       "      <td>MIN</td>\n",
       "      <td>11</td>\n",
       "      <td>5</td>\n",
       "      <td>NaN</td>\n",
       "      <td>117</td>\n",
       "      <td>11</td>\n",
       "      <td>0.094017</td>\n",
       "    </tr>\n",
       "    <tr>\n",
       "      <th>25</th>\n",
       "      <td>GB</td>\n",
       "      <td>10</td>\n",
       "      <td>6</td>\n",
       "      <td>NaN</td>\n",
       "      <td>137</td>\n",
       "      <td>21</td>\n",
       "      <td>0.153285</td>\n",
       "    </tr>\n",
       "    <tr>\n",
       "      <th>26</th>\n",
       "      <td>DET</td>\n",
       "      <td>7</td>\n",
       "      <td>9</td>\n",
       "      <td>NaN</td>\n",
       "      <td>118</td>\n",
       "      <td>14</td>\n",
       "      <td>0.118644</td>\n",
       "    </tr>\n",
       "    <tr>\n",
       "      <th>27</th>\n",
       "      <td>CHI</td>\n",
       "      <td>6</td>\n",
       "      <td>10</td>\n",
       "      <td>NaN</td>\n",
       "      <td>120</td>\n",
       "      <td>11</td>\n",
       "      <td>0.091667</td>\n",
       "    </tr>\n",
       "    <tr>\n",
       "      <th>28</th>\n",
       "      <td>CAR</td>\n",
       "      <td>15</td>\n",
       "      <td>1</td>\n",
       "      <td>NaN</td>\n",
       "      <td>120</td>\n",
       "      <td>11</td>\n",
       "      <td>0.091667</td>\n",
       "    </tr>\n",
       "    <tr>\n",
       "      <th>29</th>\n",
       "      <td>ATL</td>\n",
       "      <td>8</td>\n",
       "      <td>8</td>\n",
       "      <td>NaN</td>\n",
       "      <td>112</td>\n",
       "      <td>21</td>\n",
       "      <td>0.187500</td>\n",
       "    </tr>\n",
       "    <tr>\n",
       "      <th>30</th>\n",
       "      <td>NO</td>\n",
       "      <td>7</td>\n",
       "      <td>9</td>\n",
       "      <td>NaN</td>\n",
       "      <td>113</td>\n",
       "      <td>16</td>\n",
       "      <td>0.141593</td>\n",
       "    </tr>\n",
       "    <tr>\n",
       "      <th>31</th>\n",
       "      <td>TB</td>\n",
       "      <td>6</td>\n",
       "      <td>10</td>\n",
       "      <td>NaN</td>\n",
       "      <td>110</td>\n",
       "      <td>12</td>\n",
       "      <td>0.109091</td>\n",
       "    </tr>\n",
       "  </tbody>\n",
       "</table>\n",
       "</div>"
      ],
      "text/plain": [
       "   Team  Win  Loss  Unnamed: 3  4thPossesions  4thAttempts  PercentAttempts\n",
       "0    NE   12     4         NaN            128           16         0.125000\n",
       "1   NYJ   10     6         NaN            132           15         0.113636\n",
       "2   BUF    8     8         NaN            132           16         0.121212\n",
       "3   MIA    6    10         NaN            138           21         0.152174\n",
       "4   DEN   12     4         NaN            134           14         0.104478\n",
       "5    KC   11     5         NaN            119            9         0.075630\n",
       "6   OAK    7     9         NaN            132           15         0.113636\n",
       "7    SD    4    12         NaN            125           16         0.128000\n",
       "8   CIN   12     4         NaN            116           13         0.112069\n",
       "9   PIT   10     6         NaN            115           12         0.104348\n",
       "10  BAL    5    11         NaN            138           24         0.173913\n",
       "11  CLE    3    13         NaN            126           24         0.190476\n",
       "12  HOU    9     7         NaN            145           19         0.131034\n",
       "13  IND    8     8         NaN            131           13         0.099237\n",
       "14  JAC    5    11         NaN            128           15         0.117188\n",
       "15  TEN    3    13         NaN            124           15         0.120968\n",
       "16  WAS    9     7         NaN            119           14         0.117647\n",
       "17  PHI    7     9         NaN            132           19         0.143939\n",
       "18  NYG    6    10         NaN            129           16         0.124031\n",
       "19  DAL    4    12         NaN            119           16         0.134454\n",
       "20  ARI   13     3         NaN            101            9         0.089109\n",
       "21  SEA   10     6         NaN            109           11         0.100917\n",
       "22  STL    7     9         NaN            151           16         0.105960\n",
       "23   SF    5    11         NaN            139           19         0.136691\n",
       "24  MIN   11     5         NaN            117           11         0.094017\n",
       "25   GB   10     6         NaN            137           21         0.153285\n",
       "26  DET    7     9         NaN            118           14         0.118644\n",
       "27  CHI    6    10         NaN            120           11         0.091667\n",
       "28  CAR   15     1         NaN            120           11         0.091667\n",
       "29  ATL    8     8         NaN            112           21         0.187500\n",
       "30   NO    7     9         NaN            113           16         0.141593\n",
       "31   TB    6    10         NaN            110           12         0.109091"
      ]
     },
     "metadata": {},
     "output_type": "display_data"
    }
   ],
   "source": [
    "display(standings15)"
   ]
  },
  {
   "cell_type": "code",
   "execution_count": 136,
   "metadata": {
    "collapsed": false
   },
   "outputs": [
    {
     "data": {
      "text/html": [
       "<table class=\"simpletable\">\n",
       "<caption>OLS Regression Results</caption>\n",
       "<tr>\n",
       "  <th>Dep. Variable:</th>           <td>Win</td>       <th>  R-squared:         </th> <td>   0.259</td>\n",
       "</tr>\n",
       "<tr>\n",
       "  <th>Model:</th>                   <td>OLS</td>       <th>  Adj. R-squared:    </th> <td>   0.235</td>\n",
       "</tr>\n",
       "<tr>\n",
       "  <th>Method:</th>             <td>Least Squares</td>  <th>  F-statistic:       </th> <td>   10.50</td>\n",
       "</tr>\n",
       "<tr>\n",
       "  <th>Date:</th>             <td>Tue, 16 Aug 2016</td> <th>  Prob (F-statistic):</th>  <td>0.00291</td>\n",
       "</tr>\n",
       "<tr>\n",
       "  <th>Time:</th>                 <td>13:52:52</td>     <th>  Log-Likelihood:    </th> <td> -75.758</td>\n",
       "</tr>\n",
       "<tr>\n",
       "  <th>No. Observations:</th>      <td>    32</td>      <th>  AIC:               </th> <td>   155.5</td>\n",
       "</tr>\n",
       "<tr>\n",
       "  <th>Df Residuals:</th>          <td>    30</td>      <th>  BIC:               </th> <td>   158.4</td>\n",
       "</tr>\n",
       "<tr>\n",
       "  <th>Df Model:</th>              <td>     1</td>      <th>                     </th>     <td> </td>   \n",
       "</tr>\n",
       "<tr>\n",
       "  <th>Covariance Type:</th>      <td>nonrobust</td>    <th>                     </th>     <td> </td>   \n",
       "</tr>\n",
       "</table>\n",
       "<table class=\"simpletable\">\n",
       "<tr>\n",
       "         <td></td>            <th>coef</th>     <th>std err</th>      <th>t</th>      <th>P>|t|</th> <th>[95.0% Conf. Int.]</th> \n",
       "</tr>\n",
       "<tr>\n",
       "  <th>Intercept</th>       <td>   14.9753</td> <td>    2.203</td> <td>    6.797</td> <td> 0.000</td> <td>   10.476    19.475</td>\n",
       "</tr>\n",
       "<tr>\n",
       "  <th>PercentAttempts</th> <td>  -56.8945</td> <td>   17.555</td> <td>   -3.241</td> <td> 0.003</td> <td>  -92.746   -21.043</td>\n",
       "</tr>\n",
       "</table>\n",
       "<table class=\"simpletable\">\n",
       "<tr>\n",
       "  <th>Omnibus:</th>       <td> 1.006</td> <th>  Durbin-Watson:     </th> <td>   1.709</td>\n",
       "</tr>\n",
       "<tr>\n",
       "  <th>Prob(Omnibus):</th> <td> 0.605</td> <th>  Jarque-Bera (JB):  </th> <td>   0.854</td>\n",
       "</tr>\n",
       "<tr>\n",
       "  <th>Skew:</th>          <td> 0.108</td> <th>  Prob(JB):          </th> <td>   0.652</td>\n",
       "</tr>\n",
       "<tr>\n",
       "  <th>Kurtosis:</th>      <td> 2.230</td> <th>  Cond. No.          </th> <td>    37.8</td>\n",
       "</tr>\n",
       "</table>"
      ],
      "text/plain": [
       "<class 'statsmodels.iolib.summary.Summary'>\n",
       "\"\"\"\n",
       "                            OLS Regression Results                            \n",
       "==============================================================================\n",
       "Dep. Variable:                    Win   R-squared:                       0.259\n",
       "Model:                            OLS   Adj. R-squared:                  0.235\n",
       "Method:                 Least Squares   F-statistic:                     10.50\n",
       "Date:                Tue, 16 Aug 2016   Prob (F-statistic):            0.00291\n",
       "Time:                        13:52:52   Log-Likelihood:                -75.758\n",
       "No. Observations:                  32   AIC:                             155.5\n",
       "Df Residuals:                      30   BIC:                             158.4\n",
       "Df Model:                           1                                         \n",
       "Covariance Type:            nonrobust                                         \n",
       "===================================================================================\n",
       "                      coef    std err          t      P>|t|      [95.0% Conf. Int.]\n",
       "-----------------------------------------------------------------------------------\n",
       "Intercept          14.9753      2.203      6.797      0.000        10.476    19.475\n",
       "PercentAttempts   -56.8945     17.555     -3.241      0.003       -92.746   -21.043\n",
       "==============================================================================\n",
       "Omnibus:                        1.006   Durbin-Watson:                   1.709\n",
       "Prob(Omnibus):                  0.605   Jarque-Bera (JB):                0.854\n",
       "Skew:                           0.108   Prob(JB):                        0.652\n",
       "Kurtosis:                       2.230   Cond. No.                         37.8\n",
       "==============================================================================\n",
       "\n",
       "Warnings:\n",
       "[1] Standard Errors assume that the covariance matrix of the errors is correctly specified.\n",
       "\"\"\""
      ]
     },
     "execution_count": 136,
     "metadata": {},
     "output_type": "execute_result"
    }
   ],
   "source": [
    "model = ols('Win~PercentAttempts', standings15).fit()\n",
    "model.summary()"
   ]
  },
  {
   "cell_type": "markdown",
   "metadata": {},
   "source": [
    "While it is generally agreed upon that 4th down possessions are under utilized by teams, this data seems to contradict that fact.  There is a negative correlation between how often a team attempts to convert a 4th down and the number of wins a team has.  We see that that the true coef for PercentAttempts falls in quite a large range (-93, -21) and that with an R^2 value of 0.024, about 1/4 of all wins can be attributed to PercentAttempts.  This means in a 256 game season among all teams, approximately 64 wins were affected by attempts on 4th Down.   \n",
    "\n",
    "However, I do not believe that this can reliably attest to the discussion of whether or not to go for it on 4th Down.  We see that that no team even attempts 1/4 of their 4th downs.  For now, I posit that there is insufficient data resulting from a reluctance of coaches to make an attempt.  This is also a limited set as it is only data for the 2015 season.  "
   ]
  },
  {
   "cell_type": "markdown",
   "metadata": {},
   "source": [
    "### Point Spread during 4th Down"
   ]
  },
  {
   "cell_type": "code",
   "execution_count": 142,
   "metadata": {
    "collapsed": false,
    "scrolled": false
   },
   "outputs": [
    {
     "data": {
      "text/plain": [
       "<seaborn.axisgrid.FacetGrid at 0x126651438>"
      ]
     },
     "execution_count": 142,
     "metadata": {},
     "output_type": "execute_result"
    },
    {
     "data": {
      "image/png": "[encoded data removed]",
      "text/plain": [
       "<matplotlib.figure.Figure at 0x128ca5eb8>"
      ]
     },
     "metadata": {},
     "output_type": "display_data"
    }
   ],
   "source": [
    "g1 = sns.FacetGrid(fourth_plays, col='Play')\n",
    "bins_fg = [-27, -24, -21, -18, -15, -12, -9, -6, -3, 0, 3, 6, 9, 12, 15, 18, 21, 24, 27]\n",
    "bins_td = [-28, -21, -14, -7, 0, 7, 14, 21, 28]\n",
    "g1.map(sns.distplot, 'ScoreDiff', bins=bins_td)\n"
   ]
  },
  {
   "cell_type": "markdown",
   "metadata": {},
   "source": [
    "Focusing on punts and attempts only.  We see that the graph for attempts is skewed slightly to the left, implying that teams that are down will attempt 4th downs more often.  It is interesting to note, however, that there is a sudden dropoff in attempts once a team is ahead during a game.  In contrast, the number of punts increases drastically as soon as the score difference is greater than 0."
   ]
  },
  {
   "cell_type": "code",
   "execution_count": 138,
   "metadata": {
    "collapsed": false,
    "scrolled": false
   },
   "outputs": [
    {
     "data": {
      "text/plain": [
       "<matplotlib.text.Text at 0x128be0518>"
      ]
     },
     "execution_count": 138,
     "metadata": {},
     "output_type": "execute_result"
    },
    {
     "data": {
      "image/png": "[encoded data removed]",
      "text/plain": [
       "<matplotlib.figure.Figure at 0x1269e4a20>"
      ]
     },
     "metadata": {},
     "output_type": "display_data"
    }
   ],
   "source": [
    "g1 = sns.distplot(attempts['ScoreDiff'], bins=bins_td)\n",
    "plt.title('Distribution of Score Difference on 4th Down Attempts')\n"
   ]
  },
  {
   "cell_type": "code",
   "execution_count": 139,
   "metadata": {
    "collapsed": false
   },
   "outputs": [
    {
     "data": {
      "image/png": "[encoded data removed]",
      "text/plain": [
       "<matplotlib.figure.Figure at 0x128c35978>"
      ]
     },
     "metadata": {},
     "output_type": "display_data"
    }
   ],
   "source": [
    "g1 = sns.distplot(punts['ScoreDiff'], bins=bins_td)\n",
    "plt.title('Distribution of Score Difference on Punts')\n",
    "plt.draw()\n"
   ]
  },
  {
   "cell_type": "markdown",
   "metadata": {},
   "source": [
    "### Pass vs. Run\n",
    "This section looks at all attempted 4th downs to determine if running or passing was more popular as well as how effective the play was. "
   ]
  },
  {
   "cell_type": "code",
   "execution_count": 158,
   "metadata": {
    "collapsed": false
   },
   "outputs": [
    {
     "name": "stdout",
     "output_type": "stream",
     "text": [
      "Total Plays: 46129\n",
      "Total 4D Plays: 4009 \n",
      "\n"
     ]
    },
    {
     "data": {
      "text/html": [
       "<div>\n",
       "<table border=\"1\" class=\"dataframe\">\n",
       "  <thead>\n",
       "    <tr style=\"text-align: right;\">\n",
       "      <th></th>\n",
       "      <th>4th Down</th>\n",
       "      <th>All Downs</th>\n",
       "      <th>Percent of All Plays</th>\n",
       "      <th>Percentage of All Plays</th>\n",
       "    </tr>\n",
       "  </thead>\n",
       "  <tbody>\n",
       "    <tr>\n",
       "      <th>Run</th>\n",
       "      <td>4009</td>\n",
       "      <td>46129</td>\n",
       "      <td>0.086908</td>\n",
       "      <td>1.0</td>\n",
       "    </tr>\n",
       "    <tr>\n",
       "      <th>Pass</th>\n",
       "      <td>4503</td>\n",
       "      <td>92258</td>\n",
       "      <td>0.097618</td>\n",
       "      <td>2.0</td>\n",
       "    </tr>\n",
       "  </tbody>\n",
       "</table>\n",
       "</div>"
      ],
      "text/plain": [
       "      4th Down  All Downs  Percent of All Plays  Percentage of All Plays\n",
       "Run       4009      46129              0.086908                      1.0\n",
       "Pass      4503      92258              0.097618                      2.0"
      ]
     },
     "metadata": {},
     "output_type": "display_data"
    }
   ],
   "source": [
    "run_plays_4D = len(fourth_plays['PlayType'] == 'Run')\n",
    "all_runs = len(all_plays['PlayType'] == 'Run')\n",
    "pass_plays_4D = len(fourth_plays['PlayType'] == 'Pass') + len(attempts['PlayType'] == 'Sack')\n",
    "all_pass = len(all_plays['PlayType'] == 'Pass') + len(all_plays['PlayType'] == 'Sack')\n",
    "\n",
    "play_usage = ['Run', 'Pass']\n",
    "\n",
    "print('Total Plays:', len(all_plays))\n",
    "print('Total 4D Plays:', len(fourth_plays), '\\n')\n",
    "runs_and_passes = {\n",
    "                    '4th Down': pd.Series([run_plays_4D, pass_plays_4D], index=play_usage), \n",
    "                    '4th Down Ratio': pd.Series([run_plays_4D/len(all_plays), pass_plays_4D/len(all_plays)], index=play_usage),\n",
    "                    'All Downs': pd.Series([all_runs, all_pass], index=play_usage), \n",
    "                    'Percentage of All Plays': pd.Series([all_runs/len(all_plays), all_pass/len(all_plays)], index=play_usage)}\n",
    "display(pd.DataFrame(runs_and_passes))"
   ]
  },
  {
   "cell_type": "code",
   "execution_count": null,
   "metadata": {
    "collapsed": true
   },
   "outputs": [],
   "source": []
  }
 ],
 "metadata": {
  "kernelspec": {
   "display_name": "Python 3",
   "language": "python",
   "name": "python3"
  },
  "language_info": {
   "codemirror_mode": {
    "name": "ipython",
    "version": 3
   },
   "file_extension": ".py",
   "mimetype": "text/x-python",
   "name": "python",
   "nbconvert_exporter": "python",
   "pygments_lexer": "ipython3",
   "version": "3.5.2"
  }
 },
 "nbformat": 4,
 "nbformat_minor": 0
}
